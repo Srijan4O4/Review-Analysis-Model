{
 "cells": [
  {
   "cell_type": "code",
   "execution_count": 35,
   "id": "3dad785b",
   "metadata": {},
   "outputs": [
    {
     "name": "stdout",
     "output_type": "stream",
     "text": [
      "{34265}\n"
     ]
    }
   ],
   "source": [
    "import pandas as pd\n",
    "df1 = pd.read_csv('human_reviews.csv')\n",
    "print({len(df1)})"
   ]
  },
  {
   "cell_type": "code",
   "execution_count": 38,
   "id": "21512101",
   "metadata": {},
   "outputs": [
    {
     "name": "stdout",
     "output_type": "stream",
     "text": [
      "9996\n"
     ]
    }
   ],
   "source": [
    "import pandas as pd\n",
    "df2 = pd.read_csv(\"ai_reviews.csv\")\n",
    "# print(df2['isAI'].value_counts())\n",
    "print(len(df2))\n"
   ]
  },
  {
   "cell_type": "code",
   "execution_count": 39,
   "id": "1787410c",
   "metadata": {},
   "outputs": [
    {
     "name": "stdout",
     "output_type": "stream",
     "text": [
      "9044\n",
      "0\n"
     ]
    }
   ],
   "source": [
    "print(df2.duplicated(subset=['review']).sum())\n",
    "df2.drop_duplicates(subset=['review', 'rating'], inplace=True)\n",
    "df2.drop_duplicates(subset=['review'], inplace=True)\n",
    "print(df2.duplicated(subset=['review']).sum())\n"
   ]
  },
  {
   "cell_type": "code",
   "execution_count": 40,
   "id": "12b08167",
   "metadata": {},
   "outputs": [
    {
     "name": "stdout",
     "output_type": "stream",
     "text": [
      "952\n",
      "34265\n"
     ]
    }
   ],
   "source": [
    "print(len(df2))\n",
    "print(len(df1))"
   ]
  },
  {
   "cell_type": "code",
   "execution_count": 41,
   "id": "3eb856b6",
   "metadata": {},
   "outputs": [
    {
     "name": "stdout",
     "output_type": "stream",
     "text": [
      "39486\n",
      "39574\n",
      "isAI\n",
      "1    35772\n",
      "0    34265\n",
      "Name: count, dtype: int64\n"
     ]
    }
   ],
   "source": [
    "df = pd.read_csv(\"final_reviews.csv\")\n",
    "print(df.duplicated(subset=['review']).sum())\n",
    "df['review'] = df['review'].str.strip().str.lower()\n",
    "\n",
    "df = df.sample(frac=1.0, random_state=42).reset_index(drop=True)\n",
    "print(df.duplicated(subset=['review']).sum())\n",
    "print(df['isAI'].value_counts())\n",
    "\n"
   ]
  },
  {
   "cell_type": "code",
   "execution_count": 42,
   "id": "144972b9",
   "metadata": {},
   "outputs": [
    {
     "name": "stdout",
     "output_type": "stream",
     "text": [
      "isAI\n",
      "1    35772\n",
      "0    34265\n",
      "Name: count, dtype: int64\n"
     ]
    }
   ],
   "source": [
    "print(df['isAI'].value_counts())\n"
   ]
  },
  {
   "cell_type": "code",
   "execution_count": 47,
   "id": "0f4a15d4",
   "metadata": {},
   "outputs": [
    {
     "name": "stdout",
     "output_type": "stream",
     "text": [
      "Before dropping: 9044\n",
      "After dropping: 0\n",
      "947\n"
     ]
    }
   ],
   "source": [
    "import pandas as pd\n",
    "\n",
    "df = pd.read_csv(\"aiai.csv\")\n",
    "\n",
    "# Normalize text and remove NaNs\n",
    "df['review'] = df['review'].astype(str).str.strip().str.lower()\n",
    "df.dropna(subset=['review'], inplace=True)\n",
    "\n",
    "# Check initial duplicates\n",
    "print(\"Before dropping:\", df.duplicated(subset=['review']).sum())\n",
    "\n",
    "# Drop duplicate reviews\n",
    "df.drop_duplicates(subset=['review'], inplace=True)\n",
    "\n",
    "# Shuffle and reset index\n",
    "df = df.sample(frac=1.0, random_state=42).reset_index(drop=True)\n",
    "\n",
    "# Final duplicate check\n",
    "print(\"After dropping:\", df.duplicated(subset=['review']).sum())\n",
    "print(len(df))\n",
    "df.to_csv(\"airem.csv\", index=False)\n"
   ]
  },
  {
   "cell_type": "code",
   "execution_count": 48,
   "id": "5046d3a6",
   "metadata": {},
   "outputs": [
    {
     "name": "stdout",
     "output_type": "stream",
     "text": [
      "✅ Saved 10952 merged & shuffled reviews to new_dataset.csv\n"
     ]
    }
   ],
   "source": [
    "import pandas as pd\n",
    "\n",
    "# Step 1: Load and remove duplicates within each file\n",
    "ai_df = pd.read_csv('aiai.csv')\n",
    "human_df = pd.read_csv('human_reviews.csv')\n",
    "\n",
    "ai_df.drop_duplicates(subset=['review'], inplace=True)\n",
    "human_df.drop_duplicates(subset=['review'], inplace=True)\n",
    "\n",
    "# Step 2: Sample 10,000 from each (or less if not enough)\n",
    "ai_sampled = ai_df.sample(n=10000, random_state=42) if len(ai_df) >= 10000 else ai_df\n",
    "human_sampled = human_df.sample(n=10000, random_state=42) if len(human_df) >= 10000 else human_df\n",
    "\n",
    "# Step 3: Combine and shuffle\n",
    "combined_df = pd.concat([ai_sampled, human_sampled], ignore_index=True)\n",
    "combined_df = combined_df.sample(frac=1.0, random_state=42).reset_index(drop=True)\n",
    "\n",
    "# Step 4: Save to new file\n",
    "combined_df.to_csv('new_dataset.csv', index=False)\n",
    "\n",
    "print(f\"✅ Saved {len(combined_df)} merged & shuffled reviews to new_dataset.csv\")\n",
    "\n"
   ]
  },
  {
   "cell_type": "code",
   "execution_count": 50,
   "id": "95accef1",
   "metadata": {},
   "outputs": [
    {
     "name": "stdout",
     "output_type": "stream",
     "text": [
      "✅ Conversion complete: 'your_file.csv' created.\n"
     ]
    }
   ],
   "source": [
    "import pandas as pd\n",
    "\n",
    "# Load the Excel file\n",
    "df = pd.read_excel('Ai_luxury.xlsx')  # or 'your_file.xlsx'\n",
    "\n",
    "# Save it as CSV\n",
    "df.to_csv('ai_luxury.csv', index=False)\n",
    "\n",
    "print(\"✅ Conversion complete: 'your_file.csv' created.\")\n"
   ]
  },
  {
   "cell_type": "code",
   "execution_count": 51,
   "id": "d5176a46",
   "metadata": {},
   "outputs": [
    {
     "name": "stdout",
     "output_type": "stream",
     "text": [
      "⚠️ Skipping record due to error: invalid literal for int() with base 10: 'rating'\n",
      "rating,review,isAI\" \"1,\"\"From the moment I unboxed this product, the texture was overly greasy and did\" \"not absorb, leaving an uncomfortable film on my skin. In summary, this product\" \"exemplifies the pinnacle of luxury beauty innovation.\"\",1\n",
      "⚠️ Skipping record due to error: list index out of range\n",
      "\n",
      "⚠️ Skipping record due to error: list index out of range\n",
      "\n",
      "⚠️ Skipping record due to error: list index out of range\n",
      "\n",
      "✅ Cleaned 9995 entries and saved to 'cleaned_reviews.csv'\n"
     ]
    }
   ],
   "source": [
    "import csv\n",
    "\n",
    "# Step 1: Read and reconstruct multiline entries\n",
    "with open('ai_luxury.csv', 'r', encoding='utf-8') as infile:\n",
    "    lines = infile.readlines()\n",
    "\n",
    "records = []\n",
    "buffer = \"\"\n",
    "for line in lines:\n",
    "    line = line.strip()\n",
    "    buffer += line + \" \"\n",
    "    if line.endswith('\"\"') or line.endswith('\",1\"') or line.endswith(',1\"') or line.endswith(',0\"'):\n",
    "        records.append(buffer.strip())\n",
    "        buffer = \"\"\n",
    "\n",
    "# Step 2: Clean and parse records\n",
    "cleaned = []\n",
    "for record in records:\n",
    "    try:\n",
    "        # Remove outer quotes\n",
    "        record = record.strip('\"')\n",
    "        # Split at first comma (rating), then last comma (isAI)\n",
    "        parts = record.split(',', 1)\n",
    "        rating = parts[0]\n",
    "        rest = parts[1].rsplit(',', 1)\n",
    "        review = rest[0].replace('\"\"', '\"').strip()\n",
    "        isAI = rest[1]\n",
    "        cleaned.append([int(rating), review, int(isAI)])\n",
    "    except Exception as e:\n",
    "        print(f\"⚠️ Skipping record due to error: {e}\\n{record}\")\n",
    "\n",
    "# Step 3: Write to clean CSV\n",
    "import pandas as pd\n",
    "df = pd.DataFrame(cleaned, columns=['rating', 'review', 'isAI'])\n",
    "df.to_csv('cleaned_ai.csv', index=False)\n",
    "print(f\"✅ Cleaned {len(df)} entries and saved to 'cleaned_reviews.csv'\")\n"
   ]
  },
  {
   "cell_type": "code",
   "execution_count": null,
   "id": "aadc9ec3",
   "metadata": {},
   "outputs": [],
   "source": []
  }
 ],
 "metadata": {
  "kernelspec": {
   "display_name": "becenv",
   "language": "python",
   "name": "python3"
  },
  "language_info": {
   "codemirror_mode": {
    "name": "ipython",
    "version": 3
   },
   "file_extension": ".py",
   "mimetype": "text/x-python",
   "name": "python",
   "nbconvert_exporter": "python",
   "pygments_lexer": "ipython3",
   "version": "3.12.8"
  }
 },
 "nbformat": 4,
 "nbformat_minor": 5
}
